{
 "cells": [
  {
   "cell_type": "markdown",
   "metadata": {},
   "source": [
    "# Datasets\n",
    "\n",
    "Download MSCOCO data:\n",
    "\n",
    "```sh\n",
    "mkdir data-mscoco\n",
    "cd data-mscoco\n",
    "gsutil ls gs://images.cocodataset.org  # to list available directories\n",
    "\n",
    "mkdir -p images/val2017\n",
    "gsutil -m rsync gs://images.cocodataset.org/val2017 images/val2017\n",
    "\n",
    "mkdir -p images/train2017\n",
    "gsutil -m rsync gs://images.cocodataset.org/train2017 images/train2017\n",
    "\n",
    "gsutil cp gs://images.cocodataset.org/annotations/annotations_trainval2017.zip .\n",
    "# or\n",
    "wget http://images.cocodataset.org/annotations/annotations_trainval2017.zip\n",
    "unzip annotations_trainval2017.zip\n",
    "wget http://images.cocodataset.org/annotations/image_info_test2017.zip\n",
    "unzip image_info_test2017.zip\n",
    "\n",
    "# test images: run inside of images directory\n",
    "wget http://images.cocodataset.org/zips/test2017.zip\n",
    "unzip test2017.zip\n",
    "```\n",
    "\n",
    "Download MPII data:\n",
    "\n",
    "```sh\n",
    "mkdir data-mpii\n",
    "cd data-mpii\n",
    "wget https://datasets.d2.mpi-inf.mpg.de/andriluka14cvpr/mpii_human_pose_v1.tar.gz\n",
    "wget https://datasets.d2.mpi-inf.mpg.de/andriluka14cvpr/mpii_human_pose_v1_u12_2.zip\n",
    "```\n",
    "\n",
    "\n",
    "Download NightOwls:\n",
    "\n",
    "```sh\n",
    "mkdir data-nightowls\n",
    "cd data-nightowls\n",
    "wget http://www.robots.ox.ac.uk/\\~vgg/data/nightowls/python/nightowls_validation.json\n",
    "wget http://www.robots.ox.ac.uk/\\~vgg/data/nightowls/python/nightowls_validation.zip\n",
    "unzip nightowls_validation.zip\n",
    "```\n"
   ]
  },
  {
   "cell_type": "markdown",
   "metadata": {},
   "source": [
    "## COCO Person Skeletons\n",
    "\n",
    "COCO / kinematic tree / dense:\n",
    "\n",
    "```{image} ../docs/skeleton_coco.png\n",
    ":height: \"250\"\n",
    "```\n",
    "```{image} ../docs/skeleton_kinematic_tree.png\n",
    ":height: \"250\"\n",
    "```\n",
    "```{image} ../docs/skeleton_dense.png\n",
    ":height: \"250\"\n",
    "```\n",
    "\n",
    "Created with `python3 -m openpifpaf.datasets.constants`."
   ]
  },
  {
   "cell_type": "markdown",
   "metadata": {},
   "source": [
    "## COCO Person Keypoints"
   ]
  },
  {
   "cell_type": "code",
   "execution_count": 2,
   "metadata": {},
   "outputs": [
    {
     "output_type": "stream",
     "name": "stdout",
     "text": "0 nose\n1 left_eye\n2 right_eye\n3 left_ear\n4 right_ear\n5 left_shoulder\n6 right_shoulder\n7 left_elbow\n8 right_elbow\n9 left_wrist\n10 right_wrist\n11 left_hip\n12 right_hip\n13 left_knee\n14 right_knee\n15 left_ankle\n16 right_ankle\n"
    }
   ],
   "source": [
    "import openpifpaf\n",
    "for i, name in enumerate(openpifpaf.datasets.constants.COCO_KEYPOINTS):\n",
    "    print(i, name)"
   ]
  },
  {
   "cell_type": "code",
   "execution_count": 14,
   "metadata": {},
   "outputs": [
    {
     "output_type": "stream",
     "name": "stdout",
     "text": "associations\n 0: left_ankle      --> left_knee\n 1: left_knee       --> left_hip\n 2: right_ankle     --> right_knee\n 3: right_knee      --> right_hip\n 4: left_hip        --> right_hip\n 5: left_shoulder   --> left_hip\n 6: right_shoulder  --> right_hip\n 7: left_shoulder   --> right_shoulder\n 8: left_shoulder   --> left_elbow\n 9: right_shoulder  --> right_elbow\n10: left_elbow      --> left_wrist\n11: right_elbow     --> right_wrist\n12: left_eye        --> right_eye\n13: nose            --> left_eye\n14: nose            --> right_eye\n15: left_eye        --> left_ear\n16: right_eye       --> right_ear\n17: left_ear        --> left_shoulder\n18: right_ear       --> right_shoulder\n"
    }
   ],
   "source": [
    "print('associations')\n",
    "kp_names = openpifpaf.datasets.constants.COCO_KEYPOINTS\n",
    "for i, (joint1, joint2) in enumerate(openpifpaf.datasets.constants.COCO_PERSON_SKELETON):\n",
    "    print('{:2d}: {:15s} --> {}'.format(i, kp_names[joint1 - 1], kp_names[joint2 - 1]))"
   ]
  },
  {
   "cell_type": "code",
   "execution_count": null,
   "metadata": {},
   "outputs": [],
   "source": []
  }
 ],
 "metadata": {
  "language_info": {
   "codemirror_mode": {
    "name": "ipython",
    "version": 3
   },
   "file_extension": ".py",
   "mimetype": "text/x-python",
   "name": "python",
   "nbconvert_exporter": "python",
   "pygments_lexer": "ipython3",
   "version": "3.7.4-final"
  },
  "orig_nbformat": 2,
  "kernelspec": {
   "name": "python37464bitvenv3venve864f70b47a24f709eace0523e013bb0",
   "display_name": "Python 3.7.4 64-bit ('venv3': venv)"
  }
 },
 "nbformat": 4,
 "nbformat_minor": 2
}